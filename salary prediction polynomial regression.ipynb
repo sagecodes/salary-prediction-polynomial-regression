{
 "cells": [
  {
   "cell_type": "markdown",
   "metadata": {},
   "source": [
    "### Import Data"
   ]
  },
  {
   "cell_type": "code",
   "execution_count": 1,
   "metadata": {
    "collapsed": true
   },
   "outputs": [],
   "source": [
    "# Import Libraries\n",
    "import pandas as pd\n",
    "import numpy as np\n",
    "import seaborn as sns\n",
    "import matplotlib.pyplot as plt\n",
    "%matplotlib inline"
   ]
  },
  {
   "cell_type": "code",
   "execution_count": 2,
   "metadata": {},
   "outputs": [],
   "source": [
    "# Import data\n",
    "salary_df = pd.read_csv('../datasets/salaries/Employee_Salary.csv')"
   ]
  },
  {
   "cell_type": "code",
   "execution_count": 3,
   "metadata": {},
   "outputs": [
    {
     "data": {
      "text/html": [
       "<div>\n",
       "<style>\n",
       "    .dataframe thead tr:only-child th {\n",
       "        text-align: right;\n",
       "    }\n",
       "\n",
       "    .dataframe thead th {\n",
       "        text-align: left;\n",
       "    }\n",
       "\n",
       "    .dataframe tbody tr th {\n",
       "        vertical-align: top;\n",
       "    }\n",
       "</style>\n",
       "<table border=\"1\" class=\"dataframe\">\n",
       "  <thead>\n",
       "    <tr style=\"text-align: right;\">\n",
       "      <th></th>\n",
       "      <th>Years of Experience</th>\n",
       "      <th>Salary</th>\n",
       "    </tr>\n",
       "  </thead>\n",
       "  <tbody>\n",
       "    <tr>\n",
       "      <th>0</th>\n",
       "      <td>1.000000</td>\n",
       "      <td>40000.00000</td>\n",
       "    </tr>\n",
       "    <tr>\n",
       "      <th>1</th>\n",
       "      <td>2.257942</td>\n",
       "      <td>65979.42119</td>\n",
       "    </tr>\n",
       "    <tr>\n",
       "      <th>2</th>\n",
       "      <td>2.450875</td>\n",
       "      <td>67253.57549</td>\n",
       "    </tr>\n",
       "    <tr>\n",
       "      <th>3</th>\n",
       "      <td>2.498713</td>\n",
       "      <td>67342.43510</td>\n",
       "    </tr>\n",
       "    <tr>\n",
       "      <th>4</th>\n",
       "      <td>2.613729</td>\n",
       "      <td>70532.20448</td>\n",
       "    </tr>\n",
       "  </tbody>\n",
       "</table>\n",
       "</div>"
      ],
      "text/plain": [
       "   Years of Experience       Salary\n",
       "0             1.000000  40000.00000\n",
       "1             2.257942  65979.42119\n",
       "2             2.450875  67253.57549\n",
       "3             2.498713  67342.43510\n",
       "4             2.613729  70532.20448"
      ]
     },
     "execution_count": 3,
     "metadata": {},
     "output_type": "execute_result"
    }
   ],
   "source": [
    "salary_df.head()"
   ]
  },
  {
   "cell_type": "code",
   "execution_count": 4,
   "metadata": {},
   "outputs": [
    {
     "data": {
      "text/html": [
       "<div>\n",
       "<style>\n",
       "    .dataframe thead tr:only-child th {\n",
       "        text-align: right;\n",
       "    }\n",
       "\n",
       "    .dataframe thead th {\n",
       "        text-align: left;\n",
       "    }\n",
       "\n",
       "    .dataframe tbody tr th {\n",
       "        vertical-align: top;\n",
       "    }\n",
       "</style>\n",
       "<table border=\"1\" class=\"dataframe\">\n",
       "  <thead>\n",
       "    <tr style=\"text-align: right;\">\n",
       "      <th></th>\n",
       "      <th>Years of Experience</th>\n",
       "      <th>Salary</th>\n",
       "    </tr>\n",
       "  </thead>\n",
       "  <tbody>\n",
       "    <tr>\n",
       "      <th>1995</th>\n",
       "      <td>19.178575</td>\n",
       "      <td>421534.6910</td>\n",
       "    </tr>\n",
       "    <tr>\n",
       "      <th>1996</th>\n",
       "      <td>19.254499</td>\n",
       "      <td>430478.0265</td>\n",
       "    </tr>\n",
       "    <tr>\n",
       "      <th>1997</th>\n",
       "      <td>19.353369</td>\n",
       "      <td>438090.8454</td>\n",
       "    </tr>\n",
       "    <tr>\n",
       "      <th>1998</th>\n",
       "      <td>19.842520</td>\n",
       "      <td>482242.1608</td>\n",
       "    </tr>\n",
       "    <tr>\n",
       "      <th>1999</th>\n",
       "      <td>20.000000</td>\n",
       "      <td>500000.0000</td>\n",
       "    </tr>\n",
       "  </tbody>\n",
       "</table>\n",
       "</div>"
      ],
      "text/plain": [
       "      Years of Experience       Salary\n",
       "1995            19.178575  421534.6910\n",
       "1996            19.254499  430478.0265\n",
       "1997            19.353369  438090.8454\n",
       "1998            19.842520  482242.1608\n",
       "1999            20.000000  500000.0000"
      ]
     },
     "execution_count": 4,
     "metadata": {},
     "output_type": "execute_result"
    }
   ],
   "source": [
    "salary_df.tail()"
   ]
  },
  {
   "cell_type": "code",
   "execution_count": 5,
   "metadata": {},
   "outputs": [
    {
     "data": {
      "text/plain": [
       "(2000, 2)"
      ]
     },
     "execution_count": 5,
     "metadata": {},
     "output_type": "execute_result"
    }
   ],
   "source": [
    "salary_df.shape"
   ]
  },
  {
   "cell_type": "markdown",
   "metadata": {},
   "source": [
    "### Explore data"
   ]
  },
  {
   "cell_type": "code",
   "execution_count": 6,
   "metadata": {},
   "outputs": [
    {
     "data": {
      "text/html": [
       "<div>\n",
       "<style>\n",
       "    .dataframe thead tr:only-child th {\n",
       "        text-align: right;\n",
       "    }\n",
       "\n",
       "    .dataframe thead th {\n",
       "        text-align: left;\n",
       "    }\n",
       "\n",
       "    .dataframe tbody tr th {\n",
       "        vertical-align: top;\n",
       "    }\n",
       "</style>\n",
       "<table border=\"1\" class=\"dataframe\">\n",
       "  <thead>\n",
       "    <tr style=\"text-align: right;\">\n",
       "      <th></th>\n",
       "      <th>Years of Experience</th>\n",
       "      <th>Salary</th>\n",
       "    </tr>\n",
       "  </thead>\n",
       "  <tbody>\n",
       "    <tr>\n",
       "      <th>count</th>\n",
       "      <td>2000.000000</td>\n",
       "      <td>2000.000000</td>\n",
       "    </tr>\n",
       "    <tr>\n",
       "      <th>mean</th>\n",
       "      <td>10.739095</td>\n",
       "      <td>111942.422469</td>\n",
       "    </tr>\n",
       "    <tr>\n",
       "      <th>std</th>\n",
       "      <td>2.989853</td>\n",
       "      <td>45055.817085</td>\n",
       "    </tr>\n",
       "    <tr>\n",
       "      <th>min</th>\n",
       "      <td>1.000000</td>\n",
       "      <td>40000.000000</td>\n",
       "    </tr>\n",
       "    <tr>\n",
       "      <th>25%</th>\n",
       "      <td>8.812255</td>\n",
       "      <td>87938.130895</td>\n",
       "    </tr>\n",
       "    <tr>\n",
       "      <th>50%</th>\n",
       "      <td>10.738822</td>\n",
       "      <td>93376.356875</td>\n",
       "    </tr>\n",
       "    <tr>\n",
       "      <th>75%</th>\n",
       "      <td>12.785483</td>\n",
       "      <td>116978.641550</td>\n",
       "    </tr>\n",
       "    <tr>\n",
       "      <th>max</th>\n",
       "      <td>20.000000</td>\n",
       "      <td>500000.000000</td>\n",
       "    </tr>\n",
       "  </tbody>\n",
       "</table>\n",
       "</div>"
      ],
      "text/plain": [
       "       Years of Experience         Salary\n",
       "count          2000.000000    2000.000000\n",
       "mean             10.739095  111942.422469\n",
       "std               2.989853   45055.817085\n",
       "min               1.000000   40000.000000\n",
       "25%               8.812255   87938.130895\n",
       "50%              10.738822   93376.356875\n",
       "75%              12.785483  116978.641550\n",
       "max              20.000000  500000.000000"
      ]
     },
     "execution_count": 6,
     "metadata": {},
     "output_type": "execute_result"
    }
   ],
   "source": [
    "salary_df.describe()"
   ]
  },
  {
   "cell_type": "code",
   "execution_count": 7,
   "metadata": {},
   "outputs": [
    {
     "name": "stdout",
     "output_type": "stream",
     "text": [
      "<class 'pandas.core.frame.DataFrame'>\n",
      "RangeIndex: 2000 entries, 0 to 1999\n",
      "Data columns (total 2 columns):\n",
      "Years of Experience    2000 non-null float64\n",
      "Salary                 2000 non-null float64\n",
      "dtypes: float64(2)\n",
      "memory usage: 31.3 KB\n"
     ]
    }
   ],
   "source": [
    "salary_df.info()"
   ]
  },
  {
   "cell_type": "code",
   "execution_count": 8,
   "metadata": {},
   "outputs": [
    {
     "data": {
      "text/plain": [
       "<seaborn.axisgrid.PairGrid at 0x1a171bbc50>"
      ]
     },
     "execution_count": 8,
     "metadata": {},
     "output_type": "execute_result"
    },
    {
     "data": {
      "image/png": "[encoded data removed]",
      "text/plain": [
       "<matplotlib.figure.Figure at 0x1a171bb3c8>"
      ]
     },
     "metadata": {},
     "output_type": "display_data"
    }
   ],
   "source": [
    "sns.pairplot(salary_df)"
   ]
  },
  {
   "cell_type": "code",
   "execution_count": 9,
   "metadata": {},
   "outputs": [
    {
     "data": {
      "text/plain": [
       "<seaborn.axisgrid.FacetGrid at 0x1a1fa01b38>"
      ]
     },
     "execution_count": 9,
     "metadata": {},
     "output_type": "execute_result"
    },
    {
     "data": {
      "image/png": "[encoded data removed]",
      "text/plain": [
       "<matplotlib.figure.Figure at 0x112133ef0>"
      ]
     },
     "metadata": {},
     "output_type": "display_data"
    }
   ],
   "source": [
    "# See how straight line would fit. Example (linear regression). \n",
    "sns.lmplot(x = 'Salary', y = 'Years of Experience', data = salary_df)"
   ]
  },
  {
   "cell_type": "markdown",
   "metadata": {},
   "source": [
    "### Data Prep & Clean"
   ]
  },
  {
   "cell_type": "code",
   "execution_count": 10,
   "metadata": {
    "collapsed": true
   },
   "outputs": [],
   "source": [
    "X = salary_df[['Years of Experience']]\n",
    "y = salary_df['Salary']"
   ]
  },
  {
   "cell_type": "code",
   "execution_count": 11,
   "metadata": {},
   "outputs": [
    {
     "name": "stdout",
     "output_type": "stream",
     "text": [
      "(2000, 1)\n",
      "(2000,)\n"
     ]
    }
   ],
   "source": [
    "print(X.shape)\n",
    "print(y.shape)"
   ]
  },
  {
   "cell_type": "code",
   "execution_count": 12,
   "metadata": {},
   "outputs": [
    {
     "name": "stdout",
     "output_type": "stream",
     "text": [
      "   Years of Experience\n",
      "0             1.000000\n",
      "1             2.257942\n",
      "2             2.450875\n",
      "3             2.498713\n",
      "4             2.613729\n",
      "0    40000.00000\n",
      "1    65979.42119\n",
      "2    67253.57549\n",
      "3    67342.43510\n",
      "4    70532.20448\n",
      "Name: Salary, dtype: float64\n"
     ]
    }
   ],
   "source": [
    "print(X.head())\n",
    "print(y.head())"
   ]
  },
  {
   "cell_type": "code",
   "execution_count": 13,
   "metadata": {
    "collapsed": true
   },
   "outputs": [],
   "source": [
    "# Create train Test Split\n",
    "from sklearn.model_selection import train_test_split\n",
    "X_train, X_test, y_train, y_test = train_test_split(X,y,test_size=0.20, random_state = 5)"
   ]
  },
  {
   "cell_type": "markdown",
   "metadata": {},
   "source": [
    "### Train & Evaluate Model (Simple linear regresson)"
   ]
  },
  {
   "cell_type": "code",
   "execution_count": 14,
   "metadata": {
    "collapsed": true
   },
   "outputs": [],
   "source": [
    "# try with Linear regression\n",
    "from sklearn.linear_model import LinearRegression\n",
    "# fit_intercept true = assume b value\n",
    "reg = LinearRegression(fit_intercept=True)"
   ]
  },
  {
   "cell_type": "code",
   "execution_count": 15,
   "metadata": {},
   "outputs": [
    {
     "data": {
      "text/plain": [
       "LinearRegression(copy_X=True, fit_intercept=True, n_jobs=1, normalize=False)"
      ]
     },
     "execution_count": 15,
     "metadata": {},
     "output_type": "execute_result"
    }
   ],
   "source": [
    "# Train Model\n",
    "reg.fit(X_train, y_train)"
   ]
  },
  {
   "cell_type": "code",
   "execution_count": 16,
   "metadata": {},
   "outputs": [
    {
     "name": "stdout",
     "output_type": "stream",
     "text": [
      "Linear Model Coefficient (m) [ 11346.18044107]\n"
     ]
    }
   ],
   "source": [
    "print('Linear Model Coefficient (m)', reg.coef_)\n"
   ]
  },
  {
   "cell_type": "code",
   "execution_count": 17,
   "metadata": {
    "collapsed": true
   },
   "outputs": [],
   "source": [
    "y_pred = reg.predict(X_test)"
   ]
  },
  {
   "cell_type": "code",
   "execution_count": 18,
   "metadata": {},
   "outputs": [
    {
     "data": {
      "text/plain": [
       "array([  44133.0573701 ,  126013.331895  ,  134441.28856897,\n",
       "        131541.54659518,   84414.41876831,   74911.09404277,\n",
       "         65961.84751288,  166229.54147146,  126849.12376944,\n",
       "        154306.64125935,   85140.07947557,   62356.07497208,\n",
       "        161613.10741998,  133593.04948073,   74725.28768705,\n",
       "         97412.83094695,  149582.50041311,   89562.20798584,\n",
       "        136567.70007241,   36752.10377314,  140384.68769617,\n",
       "         95553.40410084,  157553.37881763,  200027.47149416,\n",
       "        151689.56781352,  150595.33400253,   61836.41429152,\n",
       "         97859.32932294,   95471.18583101,  116266.80268805,\n",
       "        125278.08295045,  162997.29468753,  110530.30933044,\n",
       "        103032.02598212,   88624.10351773,   57645.17387033,\n",
       "        148734.63767768,   80795.52320117,   95897.33251776,\n",
       "        109898.73883276,   56874.4179391 ,  132115.9006876 ,\n",
       "        123890.34807267,  115385.52601853,   70093.49259784,\n",
       "         88289.85580946,  132066.2019211 ,  125364.16471953,\n",
       "        179963.96037199,   90264.19019029,  113024.86615256,\n",
       "         67676.15759614,   92874.40705986,   92528.847777  ,\n",
       "         95123.97335293,  130210.67253337,   98931.26935302,\n",
       "         64608.23873489,   58582.66430584,  111199.05399987,\n",
       "         65247.58610888,  114800.126306  ,   84565.26147188,\n",
       "        123416.84268972,  172173.39546704,  131253.5522836 ,\n",
       "        102995.8798197 ,   92559.5417026 ,  109364.02647942,\n",
       "        111336.23533487,  158624.9833525 ,  121768.66361492,\n",
       "         94629.57737121,   60586.1992053 ,   51826.73556103,\n",
       "         81155.5726003 ,  180590.66903135,  110682.12258628,\n",
       "        131733.59295302,  123826.59842324,  144477.49200298,\n",
       "        104717.34385127,   94592.92685972,   69291.96693718,\n",
       "         43467.30620884,  166471.37452869,  102753.07952328,\n",
       "        105862.42352759,   76725.75018835,  109863.69059484,\n",
       "         96507.76541032,   29918.65087757,  110227.09661395,\n",
       "        145974.48197531,  151791.63850661,  120906.70529261,\n",
       "         27636.81730675,   66279.53378021,  131443.58787134,\n",
       "        127083.71592124,  104066.3123849 ,  141772.94393095,\n",
       "        127363.31530737,  160025.74795698,  151081.40981879,\n",
       "        176905.51324544,  140703.56892054,   79871.27575516,\n",
       "        184839.61618299,  103403.40621031,   95229.24945546,\n",
       "         89670.06890712,  124625.71921557,  110184.49045831,\n",
       "        159879.67144343,  129626.67509527,  129993.70043249,\n",
       "        114466.48256626,   83044.88276684,  130508.79467254,\n",
       "        126838.65169874,  106293.52471692,   57151.1235273 ,\n",
       "        128723.28676239,  110721.68921364,   84899.36475462,\n",
       "        161448.03410998,   60338.46153904,  139483.90853094,\n",
       "        149507.84039003,  101263.00840639,  118803.3335701 ,\n",
       "        102538.6628432 ,  165516.31761893,  125897.66666234,\n",
       "        113234.61153073,  153386.12212285,   95427.40643493,\n",
       "        104388.28476266,   84495.15652044,  155413.93077979,\n",
       "         71433.68848862,   88497.57182115,   63119.84845252,\n",
       "        125506.60773226,   84336.27212072,   72628.40323398,\n",
       "        166176.30984476,   96211.32252855,  164973.64592001,\n",
       "         59645.06253855,   71998.87081665,   59951.62851655,\n",
       "        108909.54353528,  101577.25397854,  152831.86166215,\n",
       "        140067.08053441,   76202.75719133,  112139.45606951,\n",
       "        129233.08778234,   96799.20821191,  125436.04504186,\n",
       "        127838.02372584,   75877.42729723,  142458.86478872,\n",
       "        199405.20214136,   96635.31182986,  181206.74189463,\n",
       "        100930.36751016,   87309.22902265,   84559.57805663,\n",
       "        126782.17495098,   80404.33093077,  120847.03482198,\n",
       "         80594.49249516,  152496.60960134,  103237.37412537,\n",
       "        171657.85804518,  119064.34700498,  139575.63241517,\n",
       "        118510.45733745,   91643.3536301 ,  108544.67794352,\n",
       "         48958.85840463,   34103.99497244,  128973.39061785,\n",
       "        158819.06203818,  142949.06482811,  110295.79853075,\n",
       "        120175.95091052,   82104.79846967,   99090.29799673,\n",
       "         77180.80332344,  108030.3981323 ,  125170.23149189,\n",
       "         99273.57760345,  128886.28962138,  137984.90892312,\n",
       "        140903.82344569,   65547.37833773,  100833.26424294,\n",
       "         92947.1856366 ,  206286.01611582,  110811.48299911,\n",
       "         83477.21130654,  207427.35813338,  103526.474508  ,\n",
       "         85214.59829543,  123662.66449668,  169970.84598706,\n",
       "        101563.94421677,  111176.4795258 ,   19644.89449464,\n",
       "        105508.83615264,  126469.53957202,   97872.43562501,\n",
       "        123809.74140296,  158964.39492306,   95787.72804028,\n",
       "        163635.45050834,   82843.70035104,   84444.33112362,\n",
       "        157482.40573589,  166167.54560114,  105717.31177976,\n",
       "        118510.9307001 ,   84779.39931958,  155829.82627193,\n",
       "         23206.14047068,  119845.7309942 ,  103466.20620712,\n",
       "        116883.80729966,  144435.4280813 ,  144036.71116019,\n",
       "        116755.28434841,  106725.90586886,   95932.60092832,\n",
       "        127607.48431623,   78367.21570549,   56059.17345282,\n",
       "        120440.18881642,  109966.47450883,  126828.26154746,\n",
       "        127940.51456799,  109375.15254396,   90123.4154632 ,\n",
       "        126478.35589461,  151897.9850078 ,  111623.07222259,\n",
       "         57464.45970309,  105000.33222804,   95781.21158847,\n",
       "        127498.44990489,  106140.74703574,  110642.30861219,\n",
       "        119902.10347056,   97283.18830922,  134123.41341042,\n",
       "         48831.44219385,   79623.09886691,   43091.02674532,\n",
       "         73331.82298814,  170169.71934167,  116698.3092764 ,\n",
       "         68628.10398458,   95747.11941375,   84704.30308125,\n",
       "         99536.77044671,   51878.36244069,  121862.76781435,\n",
       "        128966.93078348,  132028.96727421,   91766.64331447,\n",
       "        139478.59307233,  102812.17695507,  167439.22176074,\n",
       "        104649.6851023 ,   87436.04731241,   95844.27941187,\n",
       "         67694.34685089,   43893.49864339,  135902.27370691,\n",
       "        171040.83505275,  139361.86334103,   85918.06923222,\n",
       "        144320.99946886,   87797.33193616,  160527.07258591,\n",
       "        101829.04414873,   97658.82362739,   92448.96838611,\n",
       "         76713.32488404,  123946.43246951,  114422.1888932 ,\n",
       "        127475.99354456,  115516.62738929,  105593.64170335,\n",
       "        156961.00517529,   91074.39659803,  104588.56447634,\n",
       "        107800.57421283,  142748.67573725,  142104.42236561,\n",
       "        146199.91696526,  120360.71744553,   93699.79102625,\n",
       "        129759.58152988,   94089.46678887,  122611.65169085,\n",
       "        168686.96235846,  107866.93325684,   81211.01525718,\n",
       "         92275.03121303,  108576.25084637,   88567.05874614,\n",
       "        203494.52226307,   80078.99232281,  132226.23582506,\n",
       "        126492.23125213,  101448.55165553,   95119.68693615,\n",
       "        104927.10511409,  134801.04588337,  103642.1464349 ,\n",
       "        151448.69373546,  127586.51385169,  155642.88773761,\n",
       "         97237.83157849,   97305.08478093,   87139.32511036,\n",
       "        189499.48817859,   94745.96005689,   88981.39736079,\n",
       "        141072.92045166,  137112.44710119,  115939.23913948,\n",
       "         87368.89005326,  108300.04294703,  115924.28646213,\n",
       "        123356.65403902,   84631.22718919,   94401.04153822,\n",
       "         91894.61894867,  103028.661     ,   92869.69614843,\n",
       "        124110.99735717,  164852.86571575,  183918.1892386 ,\n",
       "         97761.79435625,  138842.07893037,  106082.99111959,\n",
       "        102938.94622933,  147857.25921538,  103757.54503231,\n",
       "        147054.67568224,   90172.5509826 ,  165034.66896881,\n",
       "        108341.95460296,   78344.06643392,   58139.36917216,\n",
       "        100800.05130643,  116663.15597285,  121400.84200277,\n",
       "        124992.70223153,  140906.09540487,   76070.2006162 ,\n",
       "         86007.12680943,  109094.61119792,  136875.85938318,\n",
       "         90505.18543421,  123755.64962233,  134873.26466227,\n",
       "        111636.91558388,  120567.00836561,  170722.44613916,\n",
       "        103715.33054683,  123335.99740983,  160044.63617048,\n",
       "        105264.78242098,  147744.97990989,   88036.30103591,\n",
       "        112675.85128833,   99825.52044795,   65778.53832667,\n",
       "        113266.16026622,  126937.05984479,  128639.82335137,\n",
       "        161973.52406094,  129409.9423988 ,  122555.26979715,\n",
       "        171704.09304971,   79026.46412112,  144550.21534651,\n",
       "         58203.40881861,  129360.35380372,  123223.15873765,\n",
       "         75257.72944276,  116301.03729137,  150824.30832   ,\n",
       "         49066.02377101])"
      ]
     },
     "execution_count": 18,
     "metadata": {},
     "output_type": "execute_result"
    }
   ],
   "source": [
    "y_pred"
   ]
  },
  {
   "cell_type": "code",
   "execution_count": 19,
   "metadata": {},
   "outputs": [
    {
     "data": {
      "text/plain": [
       "<matplotlib.text.Text at 0x1a201957b8>"
      ]
     },
     "execution_count": 19,
     "metadata": {},
     "output_type": "execute_result"
    },
    {
     "data": {
      "image/png": "[encoded data removed]",
      "text/plain": [
       "<matplotlib.figure.Figure at 0x1a201854e0>"
      ]
     },
     "metadata": {},
     "output_type": "display_data"
    }
   ],
   "source": [
    "# plot training data points\n",
    "plt.scatter(X_train, y_train, color='gray')\n",
    "# Plot model\n",
    "plt.plot(X_train, reg.predict(X_train))\n",
    "# Add labels\n",
    "plt.ylabel('Salary')\n",
    "plt.xlabel('Years Experience')\n",
    "plt.title('Salary vs years')"
   ]
  },
  {
   "cell_type": "code",
   "execution_count": 20,
   "metadata": {},
   "outputs": [
    {
     "data": {
      "text/plain": [
       "<matplotlib.text.Text at 0x1a2031c668>"
      ]
     },
     "execution_count": 20,
     "metadata": {},
     "output_type": "execute_result"
    },
    {
     "data": {
      "image/png": "[encoded data removed]",
      "text/plain": [
       "<matplotlib.figure.Figure at 0x1a201ef860>"
      ]
     },
     "metadata": {},
     "output_type": "display_data"
    }
   ],
   "source": [
    "# plot testing data points\n",
    "plt.scatter(X_test, y_test, color='gray')\n",
    "# Plot model\n",
    "plt.plot(X_test, y_pred)\n",
    "# Add labels\n",
    "plt.ylabel('Salary')\n",
    "plt.xlabel('Years Experience')\n",
    "plt.title('Salary vs years')"
   ]
  },
  {
   "cell_type": "code",
   "execution_count": 21,
   "metadata": {
    "collapsed": true
   },
   "outputs": [],
   "source": [
    "# Predict new salary\n",
    "years = [[17]]\n",
    "sal = reg.predict(years)"
   ]
  },
  {
   "cell_type": "code",
   "execution_count": 22,
   "metadata": {},
   "outputs": [
    {
     "name": "stdout",
     "output_type": "stream",
     "text": [
      "[ 182874.12358559]\n"
     ]
    }
   ],
   "source": [
    "print(sal)"
   ]
  },
  {
   "cell_type": "code",
   "execution_count": 23,
   "metadata": {},
   "outputs": [
    {
     "data": {
      "text/plain": [
       "0.60840031990666388"
      ]
     },
     "execution_count": 23,
     "metadata": {},
     "output_type": "execute_result"
    }
   ],
   "source": [
    "# Print accuracy\n",
    "reg.score(X_test, y_test)"
   ]
  },
  {
   "cell_type": "markdown",
   "metadata": {},
   "source": [
    "Simple linear regression will not perform well on this data, as you cannot fit a straight line thru it. \n",
    "\n",
    "### Poly Regression Model "
   ]
  },
  {
   "cell_type": "code",
   "execution_count": null,
   "metadata": {
    "collapsed": true
   },
   "outputs": [],
   "source": [
    "from sklearn.preprocessing import PolynomialFeatures"
   ]
  },
  {
   "cell_type": "code",
   "execution_count": null,
   "metadata": {
    "collapsed": true
   },
   "outputs": [],
   "source": [
    "poly_reg = PolynomialFeatures(degree = 2)"
   ]
  },
  {
   "cell_type": "code",
   "execution_count": null,
   "metadata": {},
   "outputs": [],
   "source": [
    "# Create Polynomial terms for X\n",
    "X_columns = poly_reg.fit_transform(X_train)"
   ]
  },
  {
   "cell_type": "code",
   "execution_count": null,
   "metadata": {},
   "outputs": [],
   "source": [
    "X_columns.shape"
   ]
  },
  {
   "cell_type": "code",
   "execution_count": null,
   "metadata": {
    "collapsed": true
   },
   "outputs": [],
   "source": [
    "# X_test_columns = poly_reg.fit_transform(X_test)"
   ]
  },
  {
   "cell_type": "code",
   "execution_count": null,
   "metadata": {
    "collapsed": true
   },
   "outputs": [],
   "source": [
    "# X_test_columns.shape"
   ]
  },
  {
   "cell_type": "code",
   "execution_count": null,
   "metadata": {
    "collapsed": true
   },
   "outputs": [],
   "source": [
    "#Linear regression\n",
    "from sklearn.linear_model import LinearRegression\n",
    "# fit_intercept true = assume b value\n",
    "reg = LinearRegression(fit_intercept=True)"
   ]
  },
  {
   "cell_type": "code",
   "execution_count": null,
   "metadata": {},
   "outputs": [],
   "source": [
    "reg.fit(X_columns, y_train)"
   ]
  },
  {
   "cell_type": "code",
   "execution_count": null,
   "metadata": {},
   "outputs": [],
   "source": [
    "print('Linear Model Coefficient (m)', reg.coef_)\n"
   ]
  },
  {
   "cell_type": "code",
   "execution_count": null,
   "metadata": {},
   "outputs": [],
   "source": [
    "# y_pred = reg.predict(X_test)"
   ]
  },
  {
   "cell_type": "code",
   "execution_count": null,
   "metadata": {},
   "outputs": [],
   "source": [
    "# plot testing data points\n",
    "plt.scatter(X_train, y_train, color='gray')\n",
    "# Plot model\n",
    "plt.plot(X_train, reg.predict(X_columns))\n",
    "# Add labels\n",
    "plt.ylabel('Salary')\n",
    "plt.xlabel('Years Experience')\n",
    "plt.title('Salary vs years (Poly order 2)')"
   ]
  },
  {
   "cell_type": "code",
   "execution_count": null,
   "metadata": {
    "collapsed": true
   },
   "outputs": [],
   "source": [
    "X_test.shape"
   ]
  },
  {
   "cell_type": "code",
   "execution_count": null,
   "metadata": {
    "collapsed": true
   },
   "outputs": [],
   "source": [
    "y_test.shape"
   ]
  },
  {
   "cell_type": "code",
   "execution_count": null,
   "metadata": {
    "collapsed": true
   },
   "outputs": [],
   "source": [
    "y_pred.shape"
   ]
  },
  {
   "cell_type": "code",
   "execution_count": null,
   "metadata": {
    "collapsed": true
   },
   "outputs": [],
   "source": [
    "X_train.shape"
   ]
  },
  {
   "cell_type": "code",
   "execution_count": null,
   "metadata": {
    "collapsed": true
   },
   "outputs": [],
   "source": []
  },
  {
   "cell_type": "code",
   "execution_count": null,
   "metadata": {
    "collapsed": true
   },
   "outputs": [],
   "source": [
    "# Print accuracy\n",
    "reg.score(X_test, y_test)"
   ]
  },
  {
   "cell_type": "code",
   "execution_count": null,
   "metadata": {
    "collapsed": true
   },
   "outputs": [],
   "source": []
  },
  {
   "cell_type": "markdown",
   "metadata": {},
   "source": [
    "## test here"
   ]
  },
  {
   "cell_type": "code",
   "execution_count": 73,
   "metadata": {
    "collapsed": true
   },
   "outputs": [],
   "source": [
    "# Note that we used the entire dataset for training only \n",
    "X_train = X\n",
    "y_train = y"
   ]
  },
  {
   "cell_type": "code",
   "execution_count": 74,
   "metadata": {},
   "outputs": [
    {
     "data": {
      "text/plain": [
       "(2000, 1)"
      ]
     },
     "execution_count": 74,
     "metadata": {},
     "output_type": "execute_result"
    }
   ],
   "source": [
    "X_train.shape"
   ]
  },
  {
   "cell_type": "code",
   "execution_count": 75,
   "metadata": {},
   "outputs": [
    {
     "data": {
      "text/plain": [
       "(2000,)"
      ]
     },
     "execution_count": 75,
     "metadata": {},
     "output_type": "execute_result"
    }
   ],
   "source": [
    "y_train.shape"
   ]
  },
  {
   "cell_type": "code",
   "execution_count": 76,
   "metadata": {
    "collapsed": true
   },
   "outputs": [],
   "source": [
    "from sklearn.preprocessing import PolynomialFeatures\n",
    "poly_regressor = PolynomialFeatures(degree=2)\n",
    "# import a class and instantiate an object from that class "
   ]
  },
  {
   "cell_type": "code",
   "execution_count": 77,
   "metadata": {
    "collapsed": true
   },
   "outputs": [],
   "source": [
    "# Create train Test Split\n",
    "from sklearn.model_selection import train_test_split\n",
    "X_train, X_test, y_train, y_test = train_test_split(X,y,test_size=0.01)"
   ]
  },
  {
   "cell_type": "code",
   "execution_count": 78,
   "metadata": {
    "collapsed": true
   },
   "outputs": [],
   "source": [
    "# Transform the matrix of features X into a multi array of features X_Columns \n",
    "# which contains the original features and their associated polynomial terms \n",
    "X_columns = poly_regressor.fit_transform(X_train)"
   ]
  },
  {
   "cell_type": "code",
   "execution_count": 79,
   "metadata": {},
   "outputs": [
    {
     "data": {
      "text/plain": [
       "(1980, 1)"
      ]
     },
     "execution_count": 79,
     "metadata": {},
     "output_type": "execute_result"
    }
   ],
   "source": [
    "X_train.shape"
   ]
  },
  {
   "cell_type": "code",
   "execution_count": 80,
   "metadata": {},
   "outputs": [
    {
     "data": {
      "text/plain": [
       "(1980,)"
      ]
     },
     "execution_count": 80,
     "metadata": {},
     "output_type": "execute_result"
    }
   ],
   "source": [
    "y_train.shape"
   ]
  },
  {
   "cell_type": "code",
   "execution_count": 81,
   "metadata": {},
   "outputs": [
    {
     "data": {
      "text/plain": [
       "LinearRegression(copy_X=True, fit_intercept=True, n_jobs=1, normalize=False)"
      ]
     },
     "execution_count": 81,
     "metadata": {},
     "output_type": "execute_result"
    }
   ],
   "source": [
    "regressor = LinearRegression()\n",
    "regressor.fit(X_columns, y_train)"
   ]
  },
  {
   "cell_type": "code",
   "execution_count": 82,
   "metadata": {},
   "outputs": [
    {
     "name": "stdout",
     "output_type": "stream",
     "text": [
      "Model Coefficients:  [     0.         -33171.26440444   2099.26334495]\n"
     ]
    }
   ],
   "source": [
    "print('Model Coefficients: ', regressor.coef_)"
   ]
  },
  {
   "cell_type": "code",
   "execution_count": 83,
   "metadata": {},
   "outputs": [
    {
     "data": {
      "text/plain": [
       "(1980, 1)"
      ]
     },
     "execution_count": 83,
     "metadata": {},
     "output_type": "execute_result"
    }
   ],
   "source": [
    "X_train.shape"
   ]
  },
  {
   "cell_type": "code",
   "execution_count": 84,
   "metadata": {},
   "outputs": [],
   "source": [
    "y_predict = regressor.predict(poly_regressor.fit_transform(X_train))"
   ]
  },
  {
   "cell_type": "code",
   "execution_count": 85,
   "metadata": {},
   "outputs": [
    {
     "data": {
      "text/plain": [
       "(1980,)"
      ]
     },
     "execution_count": 85,
     "metadata": {},
     "output_type": "execute_result"
    }
   ],
   "source": [
    "y_predict.shape"
   ]
  },
  {
   "cell_type": "code",
   "execution_count": 86,
   "metadata": {},
   "outputs": [
    {
     "data": {
      "text/plain": [
       "<matplotlib.text.Text at 0x1a2072af60>"
      ]
     },
     "execution_count": 86,
     "metadata": {},
     "output_type": "execute_result"
    },
    {
     "data": {
      "image/png": "[encoded data removed]",
      "text/plain": [
       "<matplotlib.figure.Figure at 0x1a2066a400>"
      ]
     },
     "metadata": {},
     "output_type": "display_data"
    }
   ],
   "source": [
    "plt.scatter(X_train, y_train, color = 'red')\n",
    "plt.plot(X_train, y_predict, color = 'blue')\n",
    "plt.ylabel('Salary/Year [dollars]')\n",
    "plt.xlabel('Years of Experience')\n",
    "plt.title('Salary vs. Years of Experience (Training dataset)')"
   ]
  },
  {
   "cell_type": "code",
   "execution_count": null,
   "metadata": {
    "collapsed": true
   },
   "outputs": [],
   "source": []
  },
  {
   "cell_type": "code",
   "execution_count": null,
   "metadata": {
    "collapsed": true
   },
   "outputs": [],
   "source": []
  },
  {
   "cell_type": "code",
   "execution_count": null,
   "metadata": {
    "collapsed": true
   },
   "outputs": [],
   "source": []
  }
 ],
 "metadata": {
  "kernelspec": {
   "display_name": "Python 3",
   "language": "python",
   "name": "python3"
  },
  "language_info": {
   "codemirror_mode": {
    "name": "ipython",
    "version": 3
   },
   "file_extension": ".py",
   "mimetype": "text/x-python",
   "name": "python",
   "nbconvert_exporter": "python",
   "pygments_lexer": "ipython3",
   "version": "3.5.4"
  }
 },
 "nbformat": 4,
 "nbformat_minor": 2
}
